{
 "cells": [
  {
   "cell_type": "code",
   "execution_count": 1,
   "metadata": {},
   "outputs": [],
   "source": [
    "import subprocess\n",
    "import pandas as pd\n",
    "import numpy as np\n",
    "import json\n",
    "from timeit import default_timer\n",
    "import matplotlib.pyplot as plt\n",
    "import seaborn as sns\n",
    "import multiprocessing as mp\n",
    "import os\n",
    "import tqdm\n",
    "\n",
    "sns.set()"
   ]
  },
  {
   "cell_type": "code",
   "execution_count": 2,
   "metadata": {},
   "outputs": [
    {
     "data": {
      "text/plain": [
       "<function subprocess.check_output(*popenargs, timeout=None, **kwargs)>"
      ]
     },
     "execution_count": 2,
     "metadata": {},
     "output_type": "execute_result"
    }
   ],
   "source": [
    "subprocess.check_output"
   ]
  },
  {
   "cell_type": "code",
   "execution_count": 3,
   "metadata": {},
   "outputs": [
    {
     "data": {
      "text/html": [
       "<div>\n",
       "<style scoped>\n",
       "    .dataframe tbody tr th:only-of-type {\n",
       "        vertical-align: middle;\n",
       "    }\n",
       "\n",
       "    .dataframe tbody tr th {\n",
       "        vertical-align: top;\n",
       "    }\n",
       "\n",
       "    .dataframe thead th {\n",
       "        text-align: right;\n",
       "    }\n",
       "</style>\n",
       "<table border=\"1\" class=\"dataframe\">\n",
       "  <thead>\n",
       "    <tr style=\"text-align: right;\">\n",
       "      <th></th>\n",
       "      <th>question</th>\n",
       "      <th>document</th>\n",
       "      <th>type</th>\n",
       "      <th>order</th>\n",
       "      <th>text</th>\n",
       "      <th>pmid</th>\n",
       "    </tr>\n",
       "  </thead>\n",
       "  <tbody>\n",
       "    <tr>\n",
       "      <th>0</th>\n",
       "      <td>1061</td>\n",
       "      <td>0</td>\n",
       "      <td>1_title</td>\n",
       "      <td>0</td>\n",
       "      <td>Hirschsprung associated GDNF mutations do not ...</td>\n",
       "      <td>11973622</td>\n",
       "    </tr>\n",
       "    <tr>\n",
       "      <th>1</th>\n",
       "      <td>1061</td>\n",
       "      <td>0</td>\n",
       "      <td>2_abstract_sentence</td>\n",
       "      <td>0</td>\n",
       "      <td>Hirschsprung disease (HSCR) is a complex disor...</td>\n",
       "      <td>11973622</td>\n",
       "    </tr>\n",
       "    <tr>\n",
       "      <th>2</th>\n",
       "      <td>1061</td>\n",
       "      <td>0</td>\n",
       "      <td>2_abstract_sentence</td>\n",
       "      <td>1</td>\n",
       "      <td>The highest proportion of both familial and sp...</td>\n",
       "      <td>11973622</td>\n",
       "    </tr>\n",
       "    <tr>\n",
       "      <th>3</th>\n",
       "      <td>1061</td>\n",
       "      <td>0</td>\n",
       "      <td>2_abstract_sentence</td>\n",
       "      <td>2</td>\n",
       "      <td>Five germline mutations in the glial cell-line...</td>\n",
       "      <td>11973622</td>\n",
       "    </tr>\n",
       "    <tr>\n",
       "      <th>4</th>\n",
       "      <td>1061</td>\n",
       "      <td>0</td>\n",
       "      <td>2_abstract_sentence</td>\n",
       "      <td>3</td>\n",
       "      <td>Pedigrees analysis and the  observed associati...</td>\n",
       "      <td>11973622</td>\n",
       "    </tr>\n",
       "  </tbody>\n",
       "</table>\n",
       "</div>"
      ],
      "text/plain": [
       "   question  document                 type  order  \\\n",
       "0      1061         0              1_title      0   \n",
       "1      1061         0  2_abstract_sentence      0   \n",
       "2      1061         0  2_abstract_sentence      1   \n",
       "3      1061         0  2_abstract_sentence      2   \n",
       "4      1061         0  2_abstract_sentence      3   \n",
       "\n",
       "                                                text      pmid  \n",
       "0  Hirschsprung associated GDNF mutations do not ...  11973622  \n",
       "1  Hirschsprung disease (HSCR) is a complex disor...  11973622  \n",
       "2  The highest proportion of both familial and sp...  11973622  \n",
       "3  Five germline mutations in the glial cell-line...  11973622  \n",
       "4  Pedigrees analysis and the  observed associati...  11973622  "
      ]
     },
     "execution_count": 3,
     "metadata": {},
     "output_type": "execute_result"
    }
   ],
   "source": [
    "df = pd.read_csv('data/sample_full_text.csv')\n",
    "\n",
    "df.head()"
   ]
  },
  {
   "cell_type": "code",
   "execution_count": 4,
   "metadata": {},
   "outputs": [],
   "source": [
    "# with open('data/tmp/test_1.txt', 'w') as file:\n",
    "#     for l in df['text'].tolist():\n",
    "#         file.write(l)\n",
    "#         file.write('\\n')"
   ]
  },
  {
   "cell_type": "code",
   "execution_count": 5,
   "metadata": {},
   "outputs": [],
   "source": [
    "# !head data/tmp/test_1.txt"
   ]
  },
  {
   "cell_type": "code",
   "execution_count": 6,
   "metadata": {},
   "outputs": [],
   "source": [
    "# process = subprocess.run([\"python\", \n",
    "#                          \"bert_resources/bert/extract_features.py\", \n",
    "#                          \"--input_file=data/tmp/test_1.txt\",\n",
    "#                          \"--output_file=data/embeddings/test_1.jsonl\",\n",
    "#                          \"--vocab_file=bert_resources/uncased_L-2_H-128_A-2/vocab.txt\",\n",
    "#                          \"--bert_config_file=bert_resources/uncased_L-2_H-128_A-2/bert_config.json\",\n",
    "#                          \"--init_checkpoint=bert_resources/uncased_L-2_H-128_A-2/bert_model.ckpt\",\n",
    "#                          \"--layers=-1\",\n",
    "#                          \"--max_seq_length=128\",\n",
    "#                          \"--batch_size=8\"])"
   ]
  },
  {
   "cell_type": "code",
   "execution_count": 7,
   "metadata": {},
   "outputs": [],
   "source": [
    "# process.returncode"
   ]
  },
  {
   "cell_type": "code",
   "execution_count": 8,
   "metadata": {},
   "outputs": [],
   "source": [
    "# with open('data/embeddings/test_1.jsonl', 'r') as file:\n",
    "#     string = json.loads(file.readline())\n",
    "\n",
    "# string['features'][0]['layers'][0]['values']"
   ]
  },
  {
   "cell_type": "code",
   "execution_count": 9,
   "metadata": {},
   "outputs": [],
   "source": [
    "def extract_cls_embedding(text_list, \n",
    "                          tmp_file_name = 'tmp', \n",
    "                          tmp_folder = 'tmp', \n",
    "                          data_folder = 'data/testing',\n",
    "                          output_folder = 'json',\n",
    "                          bert_folder = 'bert_resources/bert_models/uncased_L-2_H-128_A-2'):     \n",
    "        \n",
    "    with open('{}/{}/{}.txt'.format(data_folder, tmp_folder, tmp_file_name), 'w') as file:\n",
    "#         for l in text_list:\n",
    "#             file.write(l)\n",
    "#             file.write('\\n')\n",
    "        file.write('\\n'.join(text_list))\n",
    "             \n",
    "    process = subprocess.run([\"python\", \n",
    "                               \"bert_resources/bert/extract_features.py\", \n",
    "                               \"--input_file={}/{}/{}.txt\".format(data_folder, tmp_folder, tmp_file_name),\n",
    "                               \"--output_file={}/{}/{}.jsonl\".format(data_folder, output_folder, tmp_file_name),\n",
    "                               \"--vocab_file={}/vocab.txt\".format(bert_folder),\n",
    "                               \"--bert_config_file={}/bert_config.json\".format(bert_folder),\n",
    "                               \"--init_checkpoint={}/bert_model.ckpt\".format(bert_folder),\n",
    "                               \"--layers=-1\",\n",
    "                               \"--max_seq_length=128\",\n",
    "                               \"--batch_size=8\"])\n",
    "    if process.returncode != 0:\n",
    "        raise ValueError('There was a problem with the subprocess')\n",
    "        \n",
    "    with open('{}/{}/{}.jsonl'.format(data_folder, output_folder, tmp_file_name), 'r') as file:\n",
    "        jsons = [json.loads(l) for l in file.readlines()]\n",
    "        \n",
    "    embeddings = [np.array(j['features'][0]['layers'][0]['values']) for j in jsons]\n",
    "    \n",
    "    return embeddings"
   ]
  },
  {
   "cell_type": "code",
   "execution_count": 10,
   "metadata": {},
   "outputs": [],
   "source": [
    "# data = []\n",
    "# for i in range(10, 100):\n",
    "#     start = default_timer()\n",
    "#     s = extract_cls_embedding(df['text'][:i].tolist())\n",
    "#     print('{}, {:.2f}'.format(i, default_timer() - start))\n",
    "#     data.append(default_timer() - start)\n",
    "    \n",
    "# plt.plot(data)"
   ]
  },
  {
   "cell_type": "code",
   "execution_count": 11,
   "metadata": {},
   "outputs": [],
   "source": [
    "# start = default_timer()\n",
    "# s_1 = extract_cls_embedding(df['text'].tolist())\n",
    "# print(default_timer() - start)\n",
    "# len(s_1)"
   ]
  },
  {
   "cell_type": "code",
   "execution_count": 12,
   "metadata": {},
   "outputs": [],
   "source": [
    "# start = default_timer()\n",
    "# s_2 = extract_cls_embedding(df['text'].tolist(), bert_folder='bert_resources/uncased_L-12_H-768_A-12')\n",
    "# print(default_timer() - start)\n",
    "# len(s_1)"
   ]
  },
  {
   "cell_type": "code",
   "execution_count": 13,
   "metadata": {},
   "outputs": [],
   "source": [
    "# full_text = pd.read_csv('data/raw/full_text.csv')\n",
    "# full_text.shape"
   ]
  },
  {
   "cell_type": "code",
   "execution_count": 14,
   "metadata": {},
   "outputs": [],
   "source": [
    "def produce_batches(data, batch_size):\n",
    "    batches = []\n",
    "    for i in range(len(data) // batch_size + 1):\n",
    "        batches.append(data[i*batch_size:(i + 1)*batch_size])\n",
    "    #import pdb; pdb.set_trace()\n",
    "    output = [('batch_{}'.format(str(i).rjust(int(np.ceil(np.log10(len(data) // batch_size))),'0')), b) for i, b in enumerate(batches)]\n",
    "    return output"
   ]
  },
  {
   "cell_type": "code",
   "execution_count": 15,
   "metadata": {},
   "outputs": [
    {
     "data": {
      "text/plain": [
       "['batch_0', 'batch_1', 'batch_2']"
      ]
     },
     "execution_count": 15,
     "metadata": {},
     "output_type": "execute_result"
    }
   ],
   "source": [
    "batches = produce_batches(df['text'].tolist(), 800)\n",
    "\n",
    "[b for b,l in batches]"
   ]
  },
  {
   "cell_type": "code",
   "execution_count": 16,
   "metadata": {},
   "outputs": [],
   "source": [
    "def extract_emb(x):\n",
    "    return (x[0], extract_cls_embedding(x[1], tmp_file_name = x[0]))"
   ]
  },
  {
   "cell_type": "code",
   "execution_count": 17,
   "metadata": {},
   "outputs": [
    {
     "data": {
      "text/plain": [
       "50.94143890000123"
      ]
     },
     "execution_count": 17,
     "metadata": {},
     "output_type": "execute_result"
    }
   ],
   "source": [
    "start = default_timer()\n",
    "\n",
    "results_1 = extract_cls_embedding(df['text'].tolist())\n",
    "\n",
    "default_timer() - start"
   ]
  },
  {
   "cell_type": "code",
   "execution_count": 18,
   "metadata": {},
   "outputs": [],
   "source": [
    "# results_1[0]"
   ]
  },
  {
   "cell_type": "code",
   "execution_count": 19,
   "metadata": {},
   "outputs": [],
   "source": [
    "p = mp.Pool(processes = os.cpu_count() - 1)"
   ]
  },
  {
   "cell_type": "code",
   "execution_count": 20,
   "metadata": {},
   "outputs": [
    {
     "name": "stderr",
     "output_type": "stream",
     "text": [
      "100%|██████████| 3/3 [00:00<00:00, 233.16it/s]\n"
     ]
    },
    {
     "data": {
      "text/plain": [
       "43.768461861000105"
      ]
     },
     "execution_count": 20,
     "metadata": {},
     "output_type": "execute_result"
    }
   ],
   "source": [
    "start = default_timer()\n",
    "\n",
    "results_2 = list(p.imap_unordered(extract_emb, tqdm.tqdm(batches)))\n",
    "\n",
    "default_timer() - start"
   ]
  },
  {
   "cell_type": "code",
   "execution_count": 21,
   "metadata": {},
   "outputs": [
    {
     "data": {
      "text/plain": [
       "['batch_1', 'batch_2', 'batch_0']"
      ]
     },
     "execution_count": 21,
     "metadata": {},
     "output_type": "execute_result"
    }
   ],
   "source": [
    "[l[0] for l in results_2]"
   ]
  },
  {
   "cell_type": "code",
   "execution_count": 22,
   "metadata": {},
   "outputs": [
    {
     "data": {
      "text/plain": [
       "['batch_0', 'batch_1', 'batch_2']"
      ]
     },
     "execution_count": 22,
     "metadata": {},
     "output_type": "execute_result"
    }
   ],
   "source": [
    "[l[0] for l in sorted(results_2)]"
   ]
  },
  {
   "cell_type": "code",
   "execution_count": 23,
   "metadata": {},
   "outputs": [
    {
     "data": {
      "text/plain": [
       "[(102400,), (102400,), (91776,)]"
      ]
     },
     "execution_count": 23,
     "metadata": {},
     "output_type": "execute_result"
    }
   ],
   "source": [
    "arrays = [(b, np.concatenate(l)) for b, l in sorted(results_2)]\n",
    "[a.shape for b, a in arrays]"
   ]
  },
  {
   "cell_type": "code",
   "execution_count": 24,
   "metadata": {},
   "outputs": [],
   "source": [
    "for b, a in arrays:\n",
    "    np.save('data/testing/embeddings/' + b + '.npy', a)"
   ]
  }
 ],
 "metadata": {
  "kernelspec": {
   "display_name": "Python 3",
   "language": "python",
   "name": "python3"
  },
  "language_info": {
   "codemirror_mode": {
    "name": "ipython",
    "version": 3
   },
   "file_extension": ".py",
   "mimetype": "text/x-python",
   "name": "python",
   "nbconvert_exporter": "python",
   "pygments_lexer": "ipython3",
   "version": "3.7.1"
  }
 },
 "nbformat": 4,
 "nbformat_minor": 2
}
