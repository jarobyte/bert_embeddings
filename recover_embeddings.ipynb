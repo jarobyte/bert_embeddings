{
 "cells": [
  {
   "cell_type": "code",
   "execution_count": 2,
   "metadata": {},
   "outputs": [],
   "source": [
    "import numpy as np\n",
    "import os"
   ]
  },
  {
   "cell_type": "code",
   "execution_count": 7,
   "metadata": {},
   "outputs": [
    {
     "data": {
      "text/plain": [
       "['data/sample_full_text_bert/embeddings/batch_05.npy',\n",
       " 'data/sample_full_text_bert/embeddings/batch_00.npy',\n",
       " 'data/sample_full_text_bert/embeddings/batch_22.npy',\n",
       " 'data/sample_full_text_bert/embeddings/batch_13.npy',\n",
       " 'data/sample_full_text_bert/embeddings/batch_15.npy',\n",
       " 'data/sample_full_text_bert/embeddings/batch_21.npy',\n",
       " 'data/sample_full_text_bert/embeddings/batch_07.npy',\n",
       " 'data/sample_full_text_bert/embeddings/batch_01.npy',\n",
       " 'data/sample_full_text_bert/embeddings/batch_16.npy',\n",
       " 'data/sample_full_text_bert/embeddings/batch_11.npy',\n",
       " 'data/sample_full_text_bert/embeddings/batch_02.npy',\n",
       " 'data/sample_full_text_bert/embeddings/batch_10.npy',\n",
       " 'data/sample_full_text_bert/embeddings/batch_06.npy',\n",
       " 'data/sample_full_text_bert/embeddings/batch_03.npy',\n",
       " 'data/sample_full_text_bert/embeddings/batch_14.npy',\n",
       " 'data/sample_full_text_bert/embeddings/batch_08.npy',\n",
       " 'data/sample_full_text_bert/embeddings/batch_19.npy',\n",
       " 'data/sample_full_text_bert/embeddings/batch_04.npy',\n",
       " 'data/sample_full_text_bert/embeddings/batch_09.npy',\n",
       " 'data/sample_full_text_bert/embeddings/batch_20.npy',\n",
       " 'data/sample_full_text_bert/embeddings/batch_18.npy',\n",
       " 'data/sample_full_text_bert/embeddings/batch_23.npy',\n",
       " 'data/sample_full_text_bert/embeddings/batch_17.npy',\n",
       " 'data/sample_full_text_bert/embeddings/batch_12.npy']"
      ]
     },
     "execution_count": 7,
     "metadata": {},
     "output_type": "execute_result"
    }
   ],
   "source": [
    "paths = []\n",
    "for dirpath, dirnames, files in os.walk('data/sample_full_text_bert/embeddings/'):\n",
    "    for f in files:\n",
    "        paths.append(os.path.join(dirpath, f))\n",
    "\n",
    "paths"
   ]
  },
  {
   "cell_type": "code",
   "execution_count": 10,
   "metadata": {},
   "outputs": [
    {
     "data": {
      "text/plain": [
       "[('data/sample_full_text_bert/embeddings/batch_00.npy', (100, 128)),\n",
       " ('data/sample_full_text_bert/embeddings/batch_01.npy', (100, 128)),\n",
       " ('data/sample_full_text_bert/embeddings/batch_02.npy', (100, 128)),\n",
       " ('data/sample_full_text_bert/embeddings/batch_03.npy', (100, 128)),\n",
       " ('data/sample_full_text_bert/embeddings/batch_04.npy', (100, 128)),\n",
       " ('data/sample_full_text_bert/embeddings/batch_05.npy', (100, 128)),\n",
       " ('data/sample_full_text_bert/embeddings/batch_06.npy', (100, 128)),\n",
       " ('data/sample_full_text_bert/embeddings/batch_07.npy', (100, 128)),\n",
       " ('data/sample_full_text_bert/embeddings/batch_08.npy', (100, 128)),\n",
       " ('data/sample_full_text_bert/embeddings/batch_09.npy', (100, 128)),\n",
       " ('data/sample_full_text_bert/embeddings/batch_10.npy', (100, 128)),\n",
       " ('data/sample_full_text_bert/embeddings/batch_11.npy', (100, 128)),\n",
       " ('data/sample_full_text_bert/embeddings/batch_12.npy', (100, 128)),\n",
       " ('data/sample_full_text_bert/embeddings/batch_13.npy', (100, 128)),\n",
       " ('data/sample_full_text_bert/embeddings/batch_14.npy', (100, 128)),\n",
       " ('data/sample_full_text_bert/embeddings/batch_15.npy', (100, 128)),\n",
       " ('data/sample_full_text_bert/embeddings/batch_16.npy', (100, 128)),\n",
       " ('data/sample_full_text_bert/embeddings/batch_17.npy', (100, 128)),\n",
       " ('data/sample_full_text_bert/embeddings/batch_18.npy', (100, 128)),\n",
       " ('data/sample_full_text_bert/embeddings/batch_19.npy', (100, 128)),\n",
       " ('data/sample_full_text_bert/embeddings/batch_20.npy', (100, 128)),\n",
       " ('data/sample_full_text_bert/embeddings/batch_21.npy', (100, 128)),\n",
       " ('data/sample_full_text_bert/embeddings/batch_22.npy', (100, 128)),\n",
       " ('data/sample_full_text_bert/embeddings/batch_23.npy', (17, 128))]"
      ]
     },
     "execution_count": 10,
     "metadata": {},
     "output_type": "execute_result"
    }
   ],
   "source": [
    "arrays = [(p, np.load(p)) for p in sorted(paths)]\n",
    "[(p, a.shape) for p, a in arrays]"
   ]
  },
  {
   "cell_type": "code",
   "execution_count": null,
   "metadata": {},
   "outputs": [],
   "source": []
  }
 ],
 "metadata": {
  "kernelspec": {
   "display_name": "Python 3",
   "language": "python",
   "name": "python3"
  },
  "language_info": {
   "codemirror_mode": {
    "name": "ipython",
    "version": 3
   },
   "file_extension": ".py",
   "mimetype": "text/x-python",
   "name": "python",
   "nbconvert_exporter": "python",
   "pygments_lexer": "ipython3",
   "version": "3.7.1"
  }
 },
 "nbformat": 4,
 "nbformat_minor": 2
}
